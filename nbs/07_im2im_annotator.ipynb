{
 "cells": [
  {
   "cell_type": "code",
   "execution_count": null,
   "metadata": {},
   "outputs": [],
   "source": [
    "# default_exp im2im_annotator"
   ]
  },
  {
   "cell_type": "code",
   "execution_count": null,
   "metadata": {},
   "outputs": [],
   "source": [
    "%load_ext autoreload\n",
    "%autoreload 2"
   ]
  },
  {
   "cell_type": "code",
   "execution_count": null,
   "metadata": {},
   "outputs": [],
   "source": [
    "from nbdev import *"
   ]
  },
  {
   "cell_type": "code",
   "execution_count": null,
   "metadata": {},
   "outputs": [],
   "source": [
    "#exporti\n",
    "\n",
    "from functools import partial\n",
    "\n",
    "from ipywidgets import (AppLayout, VBox, HBox, Button, GridBox, Layout, Checkbox, HTML, IntText, Valid, Output, Image)\n",
    "from ipyevents import Event\n",
    "from ipycanvas import Canvas, hold_canvas\n",
    "\n",
    "from pathlib import Path\n",
    "\n",
    "from ipyannotator.navi_widget import Navi\n",
    "from ipyannotator.storage import setup_project_paths, get_image_list_from_folder, AnnotationStorage\n",
    "\n",
    "from traitlets import Dict, Int, Float, HasTraits, observe, dlink, link, List, Unicode\n",
    "\n",
    "from ipyannotator.capture_annotator import CaptureGrid\n",
    "from ipyannotator.image_button import ImageButton\n",
    "from ipyannotator.bbox_canvas import draw_img\n"
   ]
  },
  {
   "cell_type": "code",
   "execution_count": null,
   "metadata": {},
   "outputs": [],
   "source": [
    "# exporti\n",
    "\n",
    "class ImCanvas(HBox, HasTraits):\n",
    "    image_path = Unicode()\n",
    "    _image_scale = Float()\n",
    "    \n",
    "    def __init__(self, width=150, height=150):\n",
    "        \n",
    "        self._canvas = Canvas(width=width, height=height)\n",
    "\n",
    "        super().__init__([self._canvas])  \n",
    "\n",
    "    @observe('image_path')\n",
    "    def _draw_image(self, change):\n",
    "        self._image_scale = draw_img(self._canvas, self.image_path, clear=True)\n",
    "\n",
    "    # Add value as a read-only property\n",
    "    @property\n",
    "    def image_scale(self):\n",
    "        return self._image_scale\n",
    "    \n",
    "    def _clear_image(self):\n",
    "        self._canvas.clear()\n",
    "        \n",
    "    # needed to support voila\n",
    "    # https://ipycanvas.readthedocs.io/en/latest/advanced.html#ipycanvas-in-voila\n",
    "    def observe_client_ready(self, cb=None):\n",
    "        self._canvas.on_client_ready(cb)"
   ]
  },
  {
   "cell_type": "code",
   "execution_count": null,
   "metadata": {},
   "outputs": [],
   "source": [
    "im = ImCanvas(35, 35)\n",
    "im.image_path = '../data/projects/im2im1/class_images/blocks_1.png'\n",
    "display(im)\n",
    "im.image_scale"
   ]
  },
  {
   "cell_type": "code",
   "execution_count": null,
   "metadata": {},
   "outputs": [],
   "source": [
    "im._clear_image()\n",
    "im.image_scale"
   ]
  },
  {
   "cell_type": "code",
   "execution_count": null,
   "metadata": {},
   "outputs": [],
   "source": [
    "#exporti\n",
    "\n",
    "class Im2ImAnnotatorGUI(AppLayout):\n",
    "    def __init__(self, im_width=300, im_height=300, \n",
    "                       label_width=150, label_height=150, \n",
    "                       n_rows=3, n_cols=3, label_autosize=False):\n",
    "        \n",
    "        \n",
    "        if label_autosize:\n",
    "            n_rows = 4 \n",
    "            n_cols = 4\n",
    "            if im_width <100 or im_height < 100:\n",
    "                label_width = 10\n",
    "                label_height = 10\n",
    "            elif im_width >1000 or im_height > 1000:\n",
    "                label_width = 50\n",
    "                label_height = 10\n",
    "            else:\n",
    "                label_width = min(im_width, im_height)/10\n",
    "                label_height = label_width\n",
    "                \n",
    "        self.label_width = label_width\n",
    "        self.label_height = label_height\n",
    "        self.n_rows = n_rows\n",
    "        self.n_cols = n_cols\n",
    "        \n",
    "        self._image = ImCanvas(width=im_width, height=im_height)\n",
    "            \n",
    "        self._navi = Navi()\n",
    "        \n",
    "        self._save_btn = Button(description=\"Save\",\n",
    "                                layout=Layout(width='auto'))\n",
    "        \n",
    "        \n",
    "        self._controls_box = HBox([self._navi, self._save_btn],\n",
    "                                 layout=Layout(display='flex', justify_content='center', flex_flow='wrap', align_items='center'))\n",
    "        \n",
    "         \n",
    "        self._grid_box = CaptureGrid(grid_item=ImageButton, image_width=label_width, image_height=label_height,  n_rows=n_rows, n_cols=n_cols)\n",
    "\n",
    "\n",
    "        self._grid_label = HTML()\n",
    "        self._labels_box = VBox(children = [self._grid_label, self._grid_box],\n",
    "                                layout=Layout(display='flex', justify_content='center', flex_wrap='wrap', align_items='center'))\n",
    "\n",
    "        \n",
    "        super().__init__(header=None,\n",
    "                 left_sidebar=VBox([self._image,self._controls_box], layout=Layout(display='flex', justify_content='center', flex_wrap='wrap', align_items='center')),\n",
    "                 center=self._labels_box,\n",
    "                 right_sidebar=None,\n",
    "                 footer=None,\n",
    "                 pane_widths=(6, 4, 0),\n",
    "                 pane_heights=(1, 1, 1))\n",
    "        \n",
    "    def on_client_ready(self, callback):\n",
    "        self._image.observe_client_ready(callback)\n",
    "        "
   ]
  },
  {
   "cell_type": "code",
   "execution_count": null,
   "metadata": {},
   "outputs": [],
   "source": [
    "label_state = {\n",
    "    '../data/projects/im2im1/class_images/blocks_1.png': {'answer': False}, \n",
    "    '../data/projects/im2im1/class_images/blocks_9.png': {'answer': False},\n",
    "    '../data/projects/im2im1/class_images/blocks_12.png': {'answer': True},\n",
    "    '../data/projects/im2im1/class_images/blocks_32.png': {'answer': False},\n",
    "    '../data/projects/im2im1/class_images/blocks_37.png': {'answer': False},\n",
    "    '../data/projects/im2im1/class_images/blocks_69.png': {'answer': True}\n",
    "}"
   ]
  },
  {
   "cell_type": "code",
   "execution_count": null,
   "metadata": {},
   "outputs": [],
   "source": [
    "im2im_ = Im2ImAnnotatorGUI(im_height = 500, im_width = 500, label_width=50, label_height=50, n_rows=2, n_cols=3)\n",
    "im2im_._image.image_path='../data/projects/im2im1/pics/Grass1.png'\n",
    "im2im_"
   ]
  },
  {
   "cell_type": "code",
   "execution_count": null,
   "metadata": {},
   "outputs": [],
   "source": [
    "im2im_._grid_box.current_state = label_state"
   ]
  },
  {
   "cell_type": "code",
   "execution_count": null,
   "metadata": {},
   "outputs": [],
   "source": [
    "#exporti\n",
    "def _label_state_to_storage_format(label_state):\n",
    "    return [Path(k).name for k, v in label_state.items() if v['answer']]"
   ]
  },
  {
   "cell_type": "code",
   "execution_count": null,
   "metadata": {},
   "outputs": [],
   "source": [
    "label_state_storage = _label_state_to_storage_format(label_state); label_state_storage"
   ]
  },
  {
   "cell_type": "code",
   "execution_count": null,
   "metadata": {},
   "outputs": [],
   "source": [
    "#exporti\n",
    "def _storage_format_to_label_state(storage_format, label_names, label_dir):\n",
    "    return {str(Path(label_dir)/label): {'answer': label in storage_format} for label in label_names}"
   ]
  },
  {
   "cell_type": "code",
   "execution_count": null,
   "metadata": {},
   "outputs": [],
   "source": [
    "label_names = ['blocks_1.png', 'blocks_9.png', 'blocks_12.png', 'blocks_32.png', 'blocks_37.png', 'blocks_69.png']\n",
    "restored_label_state = _storage_format_to_label_state(label_state_storage, label_names, '../data/projects/im2im1/class_images/')\n",
    "test_eq(label_state, restored_label_state)"
   ]
  },
  {
   "cell_type": "code",
   "execution_count": null,
   "metadata": {},
   "outputs": [],
   "source": [
    "#exporti\n",
    "\n",
    "class Im2ImAnnotatorLogic(HasTraits):\n",
    "    debug_output = Output(layout={'border': '1px solid black'})\n",
    "    index = Int(0) # state index\n",
    "    image_path = Unicode() # current image path\n",
    "    current_im_num = Int()\n",
    "    disp_number = Int() # number of labels on screen\n",
    "    label_state = Dict()\n",
    "    question_value = Unicode()\n",
    "\n",
    "    \n",
    "    def __init__(self, project_path, question=None, image_dir='pics', label_dir='class_images'):\n",
    "        \n",
    "        self.project_path = Path(project_path)\n",
    "        self.image_dir, self.annotation_file_path = setup_project_paths(self.project_path, image_dir=image_dir)\n",
    "        self.image_paths = sorted(get_image_list_from_folder(self.image_dir))\n",
    "        self.current_im_num = len(self.image_paths)\n",
    "        \n",
    "        self.labels_im_dir = Path(self.project_path, 'class_images')\n",
    "        self.labels_files = sorted(get_image_list_from_folder(self.labels_im_dir, strip_path=True))\n",
    "        \n",
    "        self.annotations = AnnotationStorage(self.image_paths)\n",
    "        \n",
    "        if question:\n",
    "            self.question_value = f'<center><p style=\"font-size:20px;\">{question}</p></center>'\n",
    "        \n",
    "        \n",
    "    def _update_im(self):\n",
    "        self.image_path = str(self.image_paths[self.index])\n",
    "        \n",
    "        \n",
    "    def _update_state(self, change=None): # from annotations\n",
    "        im_name = Path(self.image_path).name\n",
    "        \n",
    "        current_annotation = self.annotations[im_name] if im_name else None\n",
    "            \n",
    "        self.label_state = _storage_format_to_label_state(storage_format=current_annotation or [],\n",
    "                                                     label_names=self.labels_files,\n",
    "                                                     label_dir=self.labels_im_dir)\n",
    "\n",
    "\n",
    "    def _update_annotations(self, index): # from screen\n",
    "        self.annotations[Path(self.image_path).name] = _label_state_to_storage_format(self.label_state)\n",
    "\n",
    "        \n",
    "    def _save_annotations(self, *args, **kwargs): # to disk\n",
    "        index = kwargs.pop('old_index', self.index)\n",
    "        self._update_annotations(index)          \n",
    "        self.annotations.save(self.annotation_file_path)\n",
    "        \n",
    "        \n",
    "    @observe('index')\n",
    "    def _idx_changed(self, change):\n",
    "        ''' On index change save old state \n",
    "            and update current state for visualisation\n",
    "        '''\n",
    "        self._save_annotations(old_index = change['old'])\n",
    "        # update new screen\n",
    "        self._update_im()\n",
    "        self._update_state()\n",
    "        \n",
    "\n",
    "        \n",
    "    @debug_output.capture(clear_output=False)\n",
    "    def _handle_grid_click(self, event, name=None):\n",
    "        label_changed = Path(self.labels_im_dir,  name)\n",
    "        \n",
    "        if label_changed.is_dir():\n",
    "            # button without image - invalid\n",
    "            return\n",
    "        \n",
    "        label_changed = str(label_changed)\n",
    "        current_label_state = self.label_state.copy()\n",
    "        \n",
    "        # inverse state\n",
    "        current_label_state[label_changed] = {'answer': not self.label_state[label_changed].get('answer', False)}\n",
    "        \n",
    "        # change traitlets.Dict entirely to have change events issued\n",
    "        self.label_state = current_label_state\n",
    "        \n",
    "\n",
    "    def _handle_client_ready(self):\n",
    "        self._update_im()\n",
    "        self._update_state()"
   ]
  },
  {
   "cell_type": "code",
   "execution_count": null,
   "metadata": {},
   "outputs": [],
   "source": [
    "i_ = Im2ImAnnotatorLogic(project_path='../data/projects/im2im1/')\n",
    "# cal.disp_number = 9 # should be synced from gui \n",
    "i_.image_dir, i_.annotation_file_path, i_.labels_im_dir, i_.current_im_num, "
   ]
  },
  {
   "cell_type": "markdown",
   "metadata": {},
   "source": [
    "##### (Next-> button emulation) \n",
    "Increment index to initiate annotation save and switch state for a new screen"
   ]
  },
  {
   "cell_type": "code",
   "execution_count": null,
   "metadata": {},
   "outputs": [],
   "source": [
    "i_.index=2\n",
    "display(i_.label_state)"
   ]
  },
  {
   "cell_type": "code",
   "execution_count": null,
   "metadata": {},
   "outputs": [],
   "source": [
    "#export\n",
    "\n",
    "class Im2ImAnnotator(Im2ImAnnotatorGUI):\n",
    "    \"\"\"\n",
    "    Represents image to image annotator. \n",
    "    \n",
    "    Gives an ability to itarate through image dataset, \n",
    "    matching images with image labels,\n",
    "    export final annotations in json format\n",
    "    \n",
    "    \"\"\"\n",
    "    \n",
    "    def __init__(self, project_path, image_dir=None, im_width=100, im_height=100, \n",
    "                 label_width=150, label_height=150, \n",
    "                 n_rows=3, n_cols=3, label_autosize=False, question=None):\n",
    "        \n",
    "        super().__init__(im_width, im_height, label_width, label_height, n_rows, n_cols, label_autosize)\n",
    "        \n",
    "        self._model = Im2ImAnnotatorLogic(project_path, question, image_dir)\n",
    "        \n",
    "        self._save_btn.on_click(self._model._save_annotations)        \n",
    "\n",
    "        self._grid_box.on_click(self._model._handle_grid_click)\n",
    "            \n",
    "        # set correct slider max value based on image number\n",
    "        dlink((self._model, 'current_im_num'), (self._navi.model, 'max_im_number'))\n",
    "        \n",
    "        # link current image index from controls to annotator model \n",
    "        link((self._navi.model, 'index'), (self._model, 'index'))\n",
    "        \n",
    "        # link annotation question \n",
    "        link((self._model, 'question_value'), (self._grid_label, 'value'))\n",
    "        \n",
    "        #link image vizualizer\n",
    "        dlink((self._model, 'image_path'), (self._image, 'image_path'))\n",
    "        \n",
    "        # draw current image and bbox only when client is ready\n",
    "        self.on_client_ready(self._model._handle_client_ready)\n",
    "        \n",
    "        # link state of model and grid box visualizer\n",
    "        link((self._model, 'label_state'), (self._grid_box, 'current_state'))\n",
    "        \n",
    "            \n",
    "    def to_dict(self, only_annotated=True):\n",
    "        return self._model.annotations.to_dict(only_annotated)"
   ]
  },
  {
   "cell_type": "code",
   "execution_count": null,
   "metadata": {},
   "outputs": [],
   "source": [
    "# im2im = Im2ImAnnotator('../data/projects/im2im1', 'pics', 200,200, 50, 50, 3, 4, question=\"HelloWorld\")\n",
    "im2im = Im2ImAnnotator('../data/projects/im2im1', 'pics', 400, 400, label_autosize=True, question=\"HelloWorld\")\n",
    "\n",
    "im2im"
   ]
  },
  {
   "cell_type": "code",
   "execution_count": null,
   "metadata": {},
   "outputs": [],
   "source": [
    "im2im.to_dict()"
   ]
  },
  {
   "cell_type": "code",
   "execution_count": null,
   "metadata": {},
   "outputs": [],
   "source": [
    "im2im._model.debug_output"
   ]
  },
  {
   "cell_type": "code",
   "execution_count": null,
   "metadata": {},
   "outputs": [],
   "source": [
    "#hide\n",
    "from nbdev.export import notebook2script\n",
    "notebook2script()"
   ]
  },
  {
   "cell_type": "code",
   "execution_count": null,
   "metadata": {},
   "outputs": [],
   "source": []
  }
 ],
 "metadata": {
  "kernelspec": {
   "display_name": "Python 3",
   "language": "python",
   "name": "python3"
  }
 },
 "nbformat": 4,
 "nbformat_minor": 4
}
