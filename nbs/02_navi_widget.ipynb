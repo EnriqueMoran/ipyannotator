{
 "cells": [
  {
   "cell_type": "code",
   "execution_count": null,
   "metadata": {},
   "outputs": [],
   "source": [
    "%load_ext autoreload\n",
    "%autoreload 2"
   ]
  },
  {
   "cell_type": "code",
   "execution_count": null,
   "metadata": {},
   "outputs": [],
   "source": [
    "from nbdev import *\n",
    "# default_exp navi_widget"
   ]
  },
  {
   "cell_type": "markdown",
   "metadata": {},
   "source": [
    "# Navi Widget"
   ]
  },
  {
   "cell_type": "code",
   "execution_count": null,
   "metadata": {},
   "outputs": [],
   "source": [
    "#exporti\n",
    "from ipywidgets import (AppLayout, Button, IntSlider,\n",
    "                        HBox, Output,\n",
    "                        Layout, Label)\n",
    "from traitlets import Int, observe, link, HasTraits "
   ]
  },
  {
   "cell_type": "code",
   "execution_count": null,
   "metadata": {},
   "outputs": [],
   "source": [
    "#exporti\n",
    "\n",
    "class NaviGUI(HBox):\n",
    "    max_im_number = Int(0)\n",
    "    \n",
    "    def __init__(self):\n",
    "        self._im_number_slider = IntSlider(min=0, max=self.max_im_number-1,\n",
    "                                           value=0, description='Image Nr.')\n",
    "        \n",
    "        self._prev_btn = Button(description='< Previous',\n",
    "                               layout=Layout(width='auto'))\n",
    "        \n",
    "        self._next_btn = Button(description='Next >',\n",
    "                               layout=Layout(width='auto'))\n",
    "        \n",
    "        super().__init__(children=[self._prev_btn, self._im_number_slider, self._next_btn],\n",
    "                         layout=Layout(display='flex', flex_flow='row wrap', align_items='center'))\n",
    "        \n",
    "    @observe('max_im_number')\n",
    "    def check_im_num(self, change):\n",
    "        if not hasattr(self, '_im_number_slider'):\n",
    "            return\n",
    "        self._im_number_slider.max = change['new']-1"
   ]
  },
  {
   "cell_type": "code",
   "execution_count": null,
   "metadata": {},
   "outputs": [],
   "source": [
    "#exporti\n",
    "\n",
    "class NaviLogic(HasTraits):\n",
    "    index = Int(0)\n",
    "    max_im_number = Int(0)\n",
    "    \n",
    "    def __init__(self):\n",
    "        super().__init__()\n",
    "        \n",
    "    def _increment_index(self, change):\n",
    "        self.index = (((self.index + change) % self.max_im_number) + self.max_im_number) % self.max_im_number\n",
    "    "
   ]
  },
  {
   "cell_type": "code",
   "execution_count": null,
   "metadata": {},
   "outputs": [],
   "source": [
    "#export\n",
    "\n",
    "class Navi(NaviGUI):\n",
    "    \"\"\"\n",
    "    Represents simple navigation module with slider.\n",
    "    \n",
    "    \"\"\"\n",
    "    def __init__(self, max_im_number=1):\n",
    "        self.max_im_number = max_im_number\n",
    "        \n",
    "        super().__init__()\n",
    "        \n",
    "        self.model = NaviLogic()\n",
    "        \n",
    "        self._prev_btn.on_click(lambda c: self.model._increment_index(-1))\n",
    "        self._next_btn.on_click(lambda c: self.model._increment_index(1))\n",
    "        \n",
    "        # link slider value to button increment logic\n",
    "        link((self._im_number_slider, 'value'), (self.model, 'index'))\n",
    "        link((self, 'max_im_number'), (self.model, 'max_im_number'))"
   ]
  },
  {
   "cell_type": "code",
   "execution_count": null,
   "metadata": {},
   "outputs": [],
   "source": [
    "Navi(6)"
   ]
  },
  {
   "cell_type": "code",
   "execution_count": null,
   "metadata": {},
   "outputs": [],
   "source": [
    "#hide\n",
    "from nbdev.export import notebook2script\n",
    "notebook2script()"
   ]
  },
  {
   "cell_type": "code",
   "execution_count": null,
   "metadata": {},
   "outputs": [],
   "source": []
  }
 ],
 "metadata": {
  "kernelspec": {
   "display_name": "ipyannotator_env_local",
   "language": "python",
   "name": "ipyannotator_env_local"
  }
 },
 "nbformat": 4,
 "nbformat_minor": 4
}
