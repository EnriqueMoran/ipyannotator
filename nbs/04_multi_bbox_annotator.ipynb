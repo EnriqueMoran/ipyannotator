{
 "cells": [
  {
   "cell_type": "code",
   "execution_count": null,
   "metadata": {},
   "outputs": [],
   "source": [
    "%load_ext autoreload\n",
    "%autoreload 2"
   ]
  },
  {
   "cell_type": "code",
   "execution_count": null,
   "metadata": {},
   "outputs": [],
   "source": [
    "from nbdev import *\n",
    "# default_exp bbox_annotator"
   ]
  },
  {
   "cell_type": "markdown",
   "metadata": {},
   "source": [
    "# Multi Bounding Box Annotator"
   ]
  },
  {
   "cell_type": "code",
   "execution_count": null,
   "metadata": {},
   "outputs": [],
   "source": [
    "#exporti\n",
    "\n",
    "import os\n",
    "import json\n",
    "\n",
    "from ipyevents import Event\n",
    "from ipywidgets import (AppLayout, Button, IntSlider, IntProgress,\n",
    "                        HBox, VBox, Output,\n",
    "                        Layout, Label)\n",
    "from pathlib import Path\n",
    "from traitlets import Int, observe, link, dlink, HasTraits, Bytes, Unicode, Dict\n",
    "\n",
    "from ipyannotator.bbox_canvas import BBoxCanvas, MultiBBoxCanvas\n",
    "from ipyannotator.navi_widget import Navi\n",
    "from ipyannotator.storage import setup_project_paths, get_image_list_from_folder, AnnotationStorage"
   ]
  },
  {
   "cell_type": "code",
   "execution_count": null,
   "metadata": {},
   "outputs": [],
   "source": [
    "#exporti\n",
    "\n",
    "class MultiBBoxAnnotatorGUI(AppLayout):\n",
    "\n",
    "    def __init__(self, canvas_size=(505, 50)):\n",
    "        self._navi = Navi()\n",
    "        \n",
    "        self._save_btn = Button(description=\"Save\",\n",
    "                                layout=Layout(width='auto'))\n",
    "\n",
    "        self._clear_all_btn = Button(description=\"Clear all\",\n",
    "                                layout=Layout(width='auto'))\n",
    "\n",
    "        self._clear_last_btn = Button(description=\"Clear last\",\n",
    "                                layout=Layout(width='auto'))\n",
    "\n",
    "        self._controls_box = HBox([self._navi, self._clear_last_btn, self._clear_all_btn, self._save_btn],\n",
    "                                 layout=Layout(display='flex', flex_flow='row wrap', align_items='center'))\n",
    "\n",
    "        self._image_box = MultiBBoxCanvas(*canvas_size)\n",
    "\n",
    "        super().__init__(header=None,\n",
    "                 left_sidebar=None,\n",
    "                 center=self._image_box,\n",
    "                 right_sidebar=None,\n",
    "                 footer=self._controls_box,\n",
    "                 pane_widths=(2, 8, 0),\n",
    "                 pane_heights=(1, 4, 1))\n",
    "\n",
    "    def on_client_ready(self, callback):\n",
    "        self._image_box.observe_client_ready(callback)"
   ]
  },
  {
   "cell_type": "code",
   "execution_count": null,
   "metadata": {},
   "outputs": [],
   "source": [
    "MultiBBoxAnnotatorGUI(canvas_size=(800, 1))"
   ]
  },
  {
   "cell_type": "code",
   "execution_count": null,
   "metadata": {},
   "outputs": [],
   "source": [
    "#exporti\n",
    "\n",
    "class MultiBBoxAnnotatorLogic(HasTraits):\n",
    "    index = Int(0)\n",
    "    image_path = Unicode()\n",
    "    bbox_coords = Dict()\n",
    "    current_im_num = Int()\n",
    "    _bbox_index = Int()\n",
    "\n",
    "    def __init__(self, project_path, file_name=None, image_dir='pics', results_dir=None):\n",
    "        self.project_path = Path(project_path)\n",
    "        self.image_dir, self.annotation_file_path = setup_project_paths(self.project_path,\n",
    "                                                                        file_name=file_name,\n",
    "                                                                        image_dir=image_dir,\n",
    "                                                                        results_dir=results_dir)\n",
    "\n",
    "        # select images and bboxes only from given annotation file\n",
    "        if self.annotation_file_path.is_file():\n",
    "            with self.annotation_file_path.open() as json_file:\n",
    "                data = json.load(json_file)\n",
    "                im_names = data.keys()\n",
    "            self.image_paths = sorted(im for im in get_image_list_from_folder(self.image_dir) if str(im) in im_names)\n",
    "        else:\n",
    "            self.image_paths = sorted(get_image_list_from_folder(self.image_dir))\n",
    "\n",
    "        if not self.image_paths:\n",
    "            raise Exception (\"!! No Images to display !!\")\n",
    "\n",
    "        self.current_im_num = len(self.image_paths)\n",
    "\n",
    "        self.annotations = AnnotationStorage(self.image_paths)\n",
    "\n",
    "        if self.annotation_file_path.exists():\n",
    "            self.annotations.load(self.annotation_file_path)\n",
    "        else:\n",
    "            self.annotations.save(self.annotation_file_path)\n",
    "\n",
    "    def _update_im(self):\n",
    "        self.image_path = str(self.image_paths[self.index])\n",
    " \n",
    "    def _update_coords(self): # from annotations\n",
    "        tmp_coords = self.annotations.get(self.image_path) or {}\n",
    "        # As bbox index are saved as str, we transform them into int\n",
    "        if tmp_coords:\n",
    "            tmp_coords = {int(k): v for k, v in tmp_coords.items()}\n",
    "        self.bbox_coords = tmp_coords\n",
    "            \n",
    "\n",
    "    def _update_annotations(self, index): # from coordinates\n",
    "        self.annotations[str(self.image_paths[index])] = self.bbox_coords\n",
    "\n",
    "    def _save_annotations(self, *args, **kwargs): # to disk\n",
    "        index = kwargs.pop('old_index', self.index)\n",
    "        self._update_annotations(index)\n",
    "        self.annotations.save(self.annotation_file_path)\n",
    "\n",
    "    def _handle_client_ready(self):\n",
    "        self._update_im()\n",
    "        self._update_coords()\n",
    "\n",
    "    @observe('index')\n",
    "    def _idx_changed(self, change):\n",
    "        ''' On index change save an old state \n",
    "            and update current image path and bbox coordinates for visualisation\n",
    "        '''\n",
    "        self._save_annotations(old_index = change['old'])\n",
    "\n",
    "        self._update_im()\n",
    "        self._update_coords()"
   ]
  },
  {
   "cell_type": "markdown",
   "metadata": {},
   "source": [
    "We have annotation saved in dictionary lile: `{'path/to/imagename.jpg': {'x':0, 'y': 0, 'width': 100, 'heigth': 100}}`\n",
    "\n",
    "Navi widget has `index` and prev/next buttons to iterate over `max_im_number` of images (todo: change name as we can iterate of any object).\n",
    "\n",
    "MultiBBoxAnnotator has coupled `index` (with Navi one), and onchange event to update the current image path and label.\n",
    "\n",
    "On image_path change event BBoxCanvas rerenders new image and label"
   ]
  },
  {
   "cell_type": "code",
   "execution_count": null,
   "metadata": {},
   "outputs": [],
   "source": [
    "# new index ->  save *old* annotations -> update image -> update coordinates from annotation\n",
    "#                     | \n",
    "#                     |-> _update_annotations -> get current bbox values -> save to self.annotations"
   ]
  },
  {
   "cell_type": "code",
   "execution_count": null,
   "metadata": {},
   "outputs": [],
   "source": [
    "logica = MultiBBoxAnnotatorLogic(project_path='../data/projects/bbox')\n",
    "assert len(logica.image_paths) == 4"
   ]
  },
  {
   "cell_type": "code",
   "execution_count": null,
   "metadata": {},
   "outputs": [],
   "source": [
    "logica._handle_client_ready()"
   ]
  },
  {
   "cell_type": "code",
   "execution_count": null,
   "metadata": {},
   "outputs": [],
   "source": [
    "#export\n",
    "\n",
    "class MultiBBoxAnnotator(MultiBBoxAnnotatorGUI):\n",
    "    \"\"\"\n",
    "    Represents multi bounding box annotator. \n",
    "    \n",
    "    Gives an ability to itarate through image dataset,\n",
    "    draw multiple 2D bounding box annotations for object detection\n",
    "    and localization, export final annotations in json format\n",
    "    \n",
    "    \"\"\"\n",
    "    debug_output = Output()\n",
    "    \n",
    "    def __init__(self, project_path, canvas_size=(200, 400), file_name=None, image_dir='pics', results_dir=None):\n",
    "        self._model = MultiBBoxAnnotatorLogic(project_path, file_name=file_name,\n",
    "                                              image_dir=image_dir, results_dir=results_dir)\n",
    "        \n",
    "        super().__init__(canvas_size=canvas_size)\n",
    "        \n",
    "        self._save_btn.on_click(self._model._save_annotations)\n",
    "        \n",
    "        self._clear_all_btn.on_click(self._on_clear_all)\n",
    "        \n",
    "        self._clear_last_btn.on_click(self._on_clear_last)\n",
    "            \n",
    "        # set correct slider max value based on image number\n",
    "        dlink((self._model, 'current_im_num'), (self._navi.model, 'max_im_number'))\n",
    "        \n",
    "        # draw current image and bbox only when client is ready\n",
    "        self.on_client_ready(self._model._handle_client_ready)\n",
    "        \n",
    "        # Link image path and bbox coordinates between model and the ImageWithBox widget\n",
    "        link((self._model, 'image_path'), (self._image_box, 'image_path'))\n",
    "        link((self._model, 'bbox_coords'), (self._image_box, 'bbox_coords'))\n",
    "        \n",
    "        # Link current image index from controls to annotator model\n",
    "        link((self._navi.model, 'index'), (self._model, 'index'))\n",
    "\n",
    "    def to_dict(self, only_annotated=True):\n",
    "        return self._model.annotations.to_dict(only_annotated)\n",
    "\n",
    "    def _on_clear_all(self, arg):\n",
    "        self._image_box.clear_all_bbox()\n",
    "\n",
    "    def _on_clear_last(self, arg):\n",
    "        self._image_box.clear_last_bbox()\n"
   ]
  },
  {
   "cell_type": "code",
   "execution_count": null,
   "metadata": {},
   "outputs": [],
   "source": [
    "bb = MultiBBoxAnnotator(project_path='../data/projects/bbox', canvas_size=(640, 400))"
   ]
  },
  {
   "cell_type": "code",
   "execution_count": null,
   "metadata": {},
   "outputs": [],
   "source": [
    "bb"
   ]
  },
  {
   "cell_type": "code",
   "execution_count": null,
   "metadata": {},
   "outputs": [],
   "source": [
    "bb2 = MultiBBoxAnnotator(project_path='../data/projects/bbox', canvas_size=(640, 400))"
   ]
  },
  {
   "cell_type": "code",
   "execution_count": null,
   "metadata": {},
   "outputs": [],
   "source": [
    "bb2"
   ]
  },
  {
   "cell_type": "code",
   "execution_count": null,
   "metadata": {},
   "outputs": [],
   "source": [
    "bb._model.annotations"
   ]
  },
  {
   "cell_type": "code",
   "execution_count": null,
   "metadata": {},
   "outputs": [],
   "source": [
    "bb.to_dict()"
   ]
  },
  {
   "cell_type": "code",
   "execution_count": null,
   "metadata": {},
   "outputs": [],
   "source": [
    "#hide\n",
    "from nbdev.export import notebook2script\n",
    "notebook2script()"
   ]
  },
  {
   "cell_type": "code",
   "execution_count": null,
   "metadata": {},
   "outputs": [],
   "source": []
  }
 ],
 "metadata": {
  "kernelspec": {
   "display_name": "Python 3",
   "language": "python",
   "name": "python3"
  }
 },
 "nbformat": 4,
 "nbformat_minor": 4
}
